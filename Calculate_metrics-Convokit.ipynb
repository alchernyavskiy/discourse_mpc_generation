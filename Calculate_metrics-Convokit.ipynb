{
 "cells": [
  {
   "cell_type": "code",
   "execution_count": 1,
   "metadata": {},
   "outputs": [],
   "source": [
    "import os\n",
    "import numpy as np\n",
    "import pandas as pd\n",
    "import pickle\n",
    "from rouge import Rouge\n",
    "import string"
   ]
  },
  {
   "cell_type": "code",
   "execution_count": 2,
   "metadata": {},
   "outputs": [],
   "source": [
    "from nltk.translate.bleu_score import sentence_bleu\n",
    "from nltk import word_tokenize"
   ]
  },
  {
   "cell_type": "code",
   "execution_count": 3,
   "metadata": {},
   "outputs": [],
   "source": [
    "import warnings\n",
    "warnings.filterwarnings('ignore')"
   ]
  },
  {
   "cell_type": "code",
   "execution_count": null,
   "metadata": {},
   "outputs": [],
   "source": []
  },
  {
   "cell_type": "code",
   "execution_count": 4,
   "metadata": {},
   "outputs": [],
   "source": [
    "results_paths = [\n",
    "    'structure_custom_t5_convokit_bs_1_2_lr_2e5_ep_5_w_0.pkl',\n",
    "    'structure_custom_t5_convokit_bs_1_2_lr_2e5_ep_5_w_100.pkl'\n",
    "]\n",
    "\n",
    "dataset_paths = [\n",
    "    'val_structure_convokit.csv',\n",
    "    'val_structure_convokit.csv'\n",
    "]"
   ]
  },
  {
   "cell_type": "code",
   "execution_count": null,
   "metadata": {},
   "outputs": [],
   "source": []
  },
  {
   "cell_type": "code",
   "execution_count": 6,
   "metadata": {},
   "outputs": [],
   "source": [
    "def calc_accuracy(preds):\n",
    "    y_true = np.array([p[0] for p in preds])\n",
    "    y_pred = np.array([p[1] for p in preds])\n",
    "    return np.mean(y_true == y_pred)"
   ]
  },
  {
   "cell_type": "code",
   "execution_count": 7,
   "metadata": {},
   "outputs": [
    {
     "name": "stdout",
     "output_type": "stream",
     "text": [
      "structure_custom_t5_convokit_bs_1_2_lr_2e5_ep_5_w_0.pkl\n",
      "No errors: 15020\n",
      "Accuracy: 0.113\n",
      "\n",
      "ROUGE-1: 7.31\n",
      "ROUGE-2: 0.41\n",
      "ROUGE-L: 6.62\n",
      "\n",
      "BLEU-1: 6.36\n",
      "BLEU-2: 0.27\n",
      "\n",
      "--------------------------------------------------\n",
      "\n",
      "structure_custom_t5_convokit_bs_1_2_lr_2e5_ep_5_w_100.pkl\n",
      "No errors: 15020\n",
      "Accuracy: 0.466\n",
      "\n",
      "ROUGE-1: 8.81\n",
      "ROUGE-2: 0.5\n",
      "ROUGE-L: 7.87\n",
      "\n",
      "BLEU-1: 8.02\n",
      "BLEU-2: 0.24\n",
      "\n",
      "--------------------------------------------------\n",
      "\n"
     ]
    }
   ],
   "source": [
    "for res_path, data_path in zip(results_paths, dataset_paths):\n",
    "    print(res_path)\n",
    "    test_data = pd.read_csv(\"data/\" + data_path, sep='\\t')\n",
    "    X_test = test_data['context'].values\n",
    "    y_test = test_data['structure'].values\n",
    "    \n",
    "    with open('predictions/' + res_path, 'rb') as f:\n",
    "        _, preds = pickle.load(f)\n",
    "        \n",
    "    if '_t5_' in res_path:\n",
    "        for i in range(len(preds)):\n",
    "            if len(preds[i][1].split()) > 1:\n",
    "                preds[i][1] = preds[i][1].split(' ', 1)[1]\n",
    "            else:\n",
    "                preds[i][1] = ''\n",
    "    \n",
    "    for i in range(len(preds)):\n",
    "        if preds[i][1].startswith('<unk>') and preds[i][1][4] != ' ':\n",
    "            preds[i][1] = '<unk> ' + preds[i][1][5:]\n",
    "            \n",
    "    print('No errors:', len([p for p in preds if p[1] != 'err']))\n",
    "    \n",
    "    relations = []\n",
    "    cnt_err = 0\n",
    "    for i in range(len(preds)):\n",
    "        if preds[i][1] != 'err':\n",
    "            pred_rel = preds[i][1].split(' ', 1)[0]\n",
    "            relation = y_test[i].split(' ', 1)[0]\n",
    "            relations.append([relation, pred_rel])\n",
    "            \n",
    "    print('Accuracy:', round(calc_accuracy(relations), 3))\n",
    "    \n",
    "    rouge = Rouge()\n",
    "    hyps, refs = [], []\n",
    "    for i in range(len(preds)):\n",
    "        #try:\n",
    "        if len(preds[i][1].split(' ', 1)) > 1:\n",
    "            hyps.append(preds[i][1].split(' ', 1)[1])\n",
    "        else:\n",
    "            hyps.append('')\n",
    "            \n",
    "        if len(y_test[i].split(' ', 1)) > 1:\n",
    "            refs.append(y_test[i].split(' ', 1)[1])\n",
    "        else:\n",
    "            refs.append('')\n",
    "        #except:\n",
    "        #    continue\n",
    "    \n",
    "    gen_ref = zip(hyps, refs)\n",
    "    gen_ref = [_ for _ in gen_ref if not all(j in string.punctuation for j in _[1]) and not all(j in string.punctuation for j in _[0])]\n",
    "    gens, refs  = zip(*gen_ref)\n",
    "    \n",
    "    rouge_res = rouge.get_scores(gens, refs, avg=True, ignore_empty=False)\n",
    "    print()\n",
    "    print('ROUGE-1:', round(100 * rouge_res['rouge-1']['f'], 2))\n",
    "    print('ROUGE-2:', round(100 * rouge_res['rouge-2']['f'], 2))\n",
    "    print('ROUGE-L:', round(100 * rouge_res['rouge-l']['f'], 2))\n",
    "    \n",
    "    mean_bleu = 0\n",
    "    for gen, ref in zip(gens, refs):\n",
    "        mean_bleu += sentence_bleu([word_tokenize(ref)], word_tokenize(gen), weights=[1,0,0,0])\n",
    "    mean_bleu /= len(gens)\n",
    "    print()\n",
    "    print('BLEU-1:', round(100 * mean_bleu, 2))\n",
    "    \n",
    "    mean_bleu = 0\n",
    "    for gen, ref in zip(gens, refs):\n",
    "        mean_bleu += sentence_bleu([word_tokenize(ref)], word_tokenize(gen), weights=[1,1,0,0])\n",
    "    mean_bleu /= len(gens)\n",
    "    print('BLEU-2:', round(100 * mean_bleu, 2))\n",
    "    \n",
    "    print('\\n' + '-'*50 + '\\n')"
   ]
  },
  {
   "cell_type": "code",
   "execution_count": null,
   "metadata": {},
   "outputs": [],
   "source": []
  },
  {
   "cell_type": "code",
   "execution_count": 8,
   "metadata": {},
   "outputs": [],
   "source": [
    "results_paths = [\n",
    "    'structure_custom_bart_convokit_bs_1_2_lr_2e5_ep_5_norelut_v2.pkl',\n",
    "    'structure_custom_bart_convokit_bs_1_2_lr_2e5_ep_5_norels_v2.pkl'\n",
    "]"
   ]
  },
  {
   "cell_type": "code",
   "execution_count": 19,
   "metadata": {},
   "outputs": [],
   "source": [
    "results_paths = [\n",
    "    'structure_custom_t5_convokit_bs_1_2_lr_2e5_ep_5_norelut.pkl',\n",
    "    'structure_custom_t5_convokit_bs_1_2_lr_2e5_ep_5_norels.pkl'\n",
    "]"
   ]
  },
  {
   "cell_type": "code",
   "execution_count": null,
   "metadata": {},
   "outputs": [],
   "source": []
  },
  {
   "cell_type": "code",
   "execution_count": 20,
   "metadata": {},
   "outputs": [],
   "source": [
    "dataset_paths = [\n",
    "    'val_structure_convokit_norelut.csv',\n",
    "    'val_structure_convokit_norels.csv'\n",
    "]"
   ]
  },
  {
   "cell_type": "code",
   "execution_count": null,
   "metadata": {},
   "outputs": [],
   "source": []
  },
  {
   "cell_type": "code",
   "execution_count": 21,
   "metadata": {},
   "outputs": [
    {
     "name": "stdout",
     "output_type": "stream",
     "text": [
      "structure_custom_t5_convokit_bs_1_2_lr_2e5_ep_5_norelut.pkl\n",
      "No errors: 14887\n",
      "\n",
      "ROUGE-1: 7.06\n",
      "ROUGE-2: 0.39\n",
      "ROUGE-L: 6.36\n",
      "\n",
      "BLEU-1: 6.12\n",
      "BLEU-2: 0.25\n",
      "\n",
      "--------------------------------------------------\n",
      "\n",
      "structure_custom_t5_convokit_bs_1_2_lr_2e5_ep_5_norels.pkl\n",
      "No errors: 14887\n",
      "\n",
      "ROUGE-1: 6.93\n",
      "ROUGE-2: 0.4\n",
      "ROUGE-L: 6.23\n",
      "\n",
      "BLEU-1: 5.95\n",
      "BLEU-2: 0.2\n",
      "\n",
      "--------------------------------------------------\n",
      "\n"
     ]
    }
   ],
   "source": [
    "for res_path, data_path in zip(results_paths, dataset_paths):\n",
    "    print(res_path)\n",
    "    test_data = pd.read_csv(\"data/\" + data_path, sep='\\t')\n",
    "    X_test = test_data['context'].values\n",
    "    y_test = test_data['structure'].values\n",
    "    \n",
    "    with open('predictions/' + res_path, 'rb') as f:\n",
    "        _, preds = pickle.load(f)\n",
    "        \n",
    "    if '_t5_' in res_path:\n",
    "        for i in range(len(preds)):\n",
    "            if len(preds[i][1].split()) > 1:\n",
    "                preds[i][1] = preds[i][1].split(' ', 1)[1]\n",
    "            else:\n",
    "                preds[i][1] = ''\n",
    "    \n",
    "    for i in range(len(preds)):\n",
    "        if preds[i][1].startswith('<unk>') and preds[i][1][4] != ' ':\n",
    "            preds[i][1] = '<unk> ' + preds[i][1][5:]\n",
    "            \n",
    "    print('No errors:', len([p for p in preds if p[1] != 'err']))\n",
    "    \n",
    "    rouge = Rouge()\n",
    "    hyps, refs = [], []\n",
    "    for i in range(len(preds)):\n",
    "        #try:\n",
    "        hyps.append(preds[i][1])\n",
    "        refs.append(y_test[i])\n",
    "        #except:\n",
    "        #    continue\n",
    "    \n",
    "    gen_ref = zip(hyps, refs)\n",
    "    gen_ref = [_ for _ in gen_ref if not all(j in string.punctuation for j in _[1]) and not all(j in string.punctuation for j in _[0])]\n",
    "    gens, refs  = zip(*gen_ref)\n",
    "    \n",
    "    rouge_res = rouge.get_scores(gens, refs, avg=True, ignore_empty=False)\n",
    "    print()\n",
    "    print('ROUGE-1:', round(100 * rouge_res['rouge-1']['f'], 2))\n",
    "    print('ROUGE-2:', round(100 * rouge_res['rouge-2']['f'], 2))\n",
    "    print('ROUGE-L:', round(100 * rouge_res['rouge-l']['f'], 2))\n",
    "    \n",
    "    mean_bleu = 0\n",
    "    for gen, ref in zip(gens, refs):\n",
    "        mean_bleu += sentence_bleu([word_tokenize(ref)], word_tokenize(gen), weights=[1,0,0,0])\n",
    "    mean_bleu /= len(gens)\n",
    "    print()\n",
    "    print('BLEU-1:', round(100 * mean_bleu, 2))\n",
    "    \n",
    "    mean_bleu = 0\n",
    "    for gen, ref in zip(gens, refs):\n",
    "        mean_bleu += sentence_bleu([word_tokenize(ref)], word_tokenize(gen), weights=[1,1,0,0])\n",
    "    mean_bleu /= len(gens)\n",
    "    print('BLEU-2:', round(100 * mean_bleu, 2))\n",
    "    \n",
    "    print('\\n' + '-'*50 + '\\n')"
   ]
  },
  {
   "cell_type": "code",
   "execution_count": null,
   "metadata": {},
   "outputs": [],
   "source": []
  }
 ],
 "metadata": {
  "kernelspec": {
   "display_name": "Python 3",
   "language": "python",
   "name": "python3"
  },
  "language_info": {
   "codemirror_mode": {
    "name": "ipython",
    "version": 3
   },
   "file_extension": ".py",
   "mimetype": "text/x-python",
   "name": "python",
   "nbconvert_exporter": "python",
   "pygments_lexer": "ipython3",
   "version": "3.6.5"
  }
 },
 "nbformat": 4,
 "nbformat_minor": 2
}
